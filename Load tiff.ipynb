{
 "cells": [
  {
   "cell_type": "code",
   "execution_count": 1,
   "metadata": {
    "collapsed": false
   },
   "outputs": [
    {
     "name": "stdout",
     "output_type": "stream",
     "text": [
      "Using matplotlib backend: TkAgg\n",
      "Populating the interactive namespace from numpy and matplotlib\n"
     ]
    }
   ],
   "source": [
    "%pylab"
   ]
  },
  {
   "cell_type": "code",
   "execution_count": 2,
   "metadata": {
    "collapsed": true
   },
   "outputs": [],
   "source": [
    "%load_ext autoreload\n",
    "%autoreload 2"
   ]
  },
  {
   "cell_type": "code",
   "execution_count": null,
   "metadata": {
    "collapsed": true
   },
   "outputs": [],
   "source": [
    "from __future__ import division\n",
    "\n",
    "import glob\n",
    "import numpy as np\n",
    "from PIL import Image\n",
    "from mpl_toolkits.mplot3d import Axes3D"
   ]
  },
  {
   "cell_type": "code",
   "execution_count": 5,
   "metadata": {
    "collapsed": true
   },
   "outputs": [],
   "source": [
    "from compactness.helpers import getSphere\n",
    "from compactness.helpers import rotate3D\n",
    "\n",
    "from compactness.moments import immoment3D\n",
    "\n",
    "from compactness.cubeness import __int_max_abs__\n",
    "from compactness.cubeness import cubeness_mz"
   ]
  },
  {
   "cell_type": "code",
   "execution_count": 7,
   "metadata": {
    "collapsed": false
   },
   "outputs": [],
   "source": [
    "# Move to helpers ?\n",
    "def plotVolume(volume):\n",
    "    fig = plt.figure()\n",
    "    ax = fig.add_subplot(111, projection='3d')\n",
    "    X, Y, Z = volume.nonzero()\n",
    "    ax.plot(X, Y, Z, '.')\n",
    "#plotVolume(volume)"
   ]
  },
  {
   "cell_type": "code",
   "execution_count": 48,
   "metadata": {
    "collapsed": true
   },
   "outputs": [],
   "source": [
    "# Test - Display Cube\n",
    "plotVolume(np.ones((140,140,140)))"
   ]
  },
  {
   "cell_type": "code",
   "execution_count": 8,
   "metadata": {
    "collapsed": false
   },
   "outputs": [],
   "source": [
    "# Test - Display sphere\n",
    "volume = getSphere(50)\n",
    "plotVolume(volume)"
   ]
  },
  {
   "cell_type": "code",
   "execution_count": 23,
   "metadata": {
    "collapsed": false
   },
   "outputs": [],
   "source": [
    "# Test rotate3D\n",
    "nSamples = 10\n",
    "X = np.zeros(nSamples)\n",
    "Y = np.linspace(-1,1,nSamples)\n",
    "Z = np.zeros(nSamples)\n",
    "\n",
    "fig = plt.figure()\n",
    "ax = fig.add_subplot(111, projection='3d')\n",
    "\n",
    "for rx in np.linspace(0,pi, 5):\n",
    "    for ry in np.linspace(0,pi, 5):\n",
    "        X_,Y_,Z_ = rotate3D(X,Y,Z, rx, ry)\n",
    "        ax.plot(X_, Y_, Z_,'+')\n"
   ]
  },
  {
   "cell_type": "code",
   "execution_count": 75,
   "metadata": {
    "collapsed": false
   },
   "outputs": [
    {
     "name": "stdout",
     "output_type": "stream",
     "text": [
      "710403\n",
      "47806861\n",
      "49495500\n",
      "56286828\n",
      "67.2954097885\n",
      "69.6724253698\n",
      "79.2322498638\n",
      "==============\n",
      "710403.0\n",
      "-2.77516392089e-08\n",
      "3.87539955682e-09\n",
      "-1.4656222902e-09\n"
     ]
    }
   ],
   "source": [
    "# Test immmoments\n",
    "volume = getSphere(50)\n",
    "X,Y,Z = volume.nonzero()\n",
    "\n",
    "# Moment 0,0,0 is the volume of the object\n",
    "assert volume.sum()==immoment3D(X,Y,Z,0,0,0)\n",
    "assert len(X)==immoment3D(X,Y,Z,0,0,0)\n",
    "\n",
    "m000 = immoment3D(X,Y,Z,0,0,0)\n",
    "m100 = immoment3D(X,Y,Z,1,0,0)\n",
    "m010 = immoment3D(X,Y,Z,0,1,0)\n",
    "m001 = immoment3D(X,Y,Z,0,0,1)\n",
    "print m000\n",
    "print m100\n",
    "print m010\n",
    "print m001\n",
    "\n",
    "print m100 / m000\n",
    "print m010 / m000\n",
    "print m001 / m000\n",
    "\n",
    "    # Centering \n",
    "    X = X-(m100 / m000)\n",
    "    Y = Y-(m010 / m000)\n",
    "    Z = Z-(m001 / m000)\n",
    "\n",
    "    m000 = immoment3D(X,Y,Z,0,0,0)\n",
    "    m100 = immoment3D(X,Y,Z,1,0,0)\n",
    "    m010 = immoment3D(X,Y,Z,0,1,0)\n",
    "    m001 = immoment3D(X,Y,Z,0,0,1)\n",
    "print '=============='\n",
    "print m000\n",
    "print m100\n",
    "print m010\n",
    "print m001"
   ]
  },
  {
   "cell_type": "code",
   "execution_count": 45,
   "metadata": {
    "collapsed": true
   },
   "outputs": [],
   "source": [
    "# Test cubeness of sphere\n",
    "volume = getSphere(50)\n",
    "X,Y,Z = volume.nonzero()\n",
    "c,fxy = cubeness_mz(X,Y,Z)\n",
    "print c"
   ]
  },
  {
   "cell_type": "code",
   "execution_count": 61,
   "metadata": {
    "collapsed": false
   },
   "outputs": [
    {
     "name": "stdout",
     "output_type": "stream",
     "text": [
      "1.00053361793\n"
     ]
    }
   ],
   "source": [
    "# Test cubeness of cube\n",
    "volume = np.ones((50,50,50))\n",
    "X,Y,Z = volume.nonzero()\n",
    "c,fxy = cubeness_mz(X,Y,Z)\n",
    "print c"
   ]
  },
  {
   "cell_type": "code",
   "execution_count": 63,
   "metadata": {
    "collapsed": false
   },
   "outputs": [
    {
     "data": {
      "text/plain": [
       "[<mpl_toolkits.mplot3d.art3d.Line3D at 0xaf073b8c>]"
      ]
     },
     "execution_count": 63,
     "metadata": {},
     "output_type": "execute_result"
    }
   ],
   "source": [
    "# Test -- plot fxy\n",
    "angles = np.linspace(0,np.pi,fxy.shape[0])\n",
    "fig = plt.figure()\n",
    "ax = fig.add_subplot(111, projection='3d')\n",
    "a,b = np.meshgrid(angles, angles)\n",
    "ax.plot(a.flatten(), b.flatten(), fxy.flatten(), '+')"
   ]
  },
  {
   "cell_type": "code",
   "execution_count": null,
   "metadata": {
    "collapsed": true
   },
   "outputs": [],
   "source": []
  },
  {
   "cell_type": "code",
   "execution_count": null,
   "metadata": {
    "collapsed": true
   },
   "outputs": [],
   "source": []
  },
  {
   "cell_type": "code",
   "execution_count": null,
   "metadata": {
    "collapsed": true
   },
   "outputs": [],
   "source": []
  },
  {
   "cell_type": "markdown",
   "metadata": {},
   "source": [
    "# And now for the problem of Manuel"
   ]
  },
  {
   "cell_type": "code",
   "execution_count": 64,
   "metadata": {
    "collapsed": false
   },
   "outputs": [],
   "source": [
    "def loadVolume(dirPath):\n",
    "    files = glob.glob(dirPath + '/*.tif')\n",
    "    volume = np.zeros((140, 140, 140))\n",
    "    for i,filename in enumerate(files):\n",
    "        img = Image.open(filename)\n",
    "        # print filename\n",
    "        pixels = np.asarray(img)\n",
    "        volume[i,:,:] = pixels\n",
    "    volume = volume > 128\n",
    "    return volume.astype(np.int)\n",
    "\n",
    "volume = loadVolume('01_xz')"
   ]
  },
  {
   "cell_type": "code",
   "execution_count": 67,
   "metadata": {
    "collapsed": true
   },
   "outputs": [],
   "source": [
    "# plotVolume(volume)"
   ]
  },
  {
   "cell_type": "code",
   "execution_count": 69,
   "metadata": {
    "collapsed": false
   },
   "outputs": [
    {
     "name": "stdout",
     "output_type": "stream",
     "text": [
      "0.629101969423\n"
     ]
    }
   ],
   "source": [
    "X,Y,Z = volume.nonzero()\n",
    "c,fxy = cubeness_mz(X,Y,Z)\n",
    "print c\n"
   ]
  },
  {
   "cell_type": "code",
   "execution_count": null,
   "metadata": {
    "collapsed": true
   },
   "outputs": [],
   "source": []
  }
 ],
 "metadata": {
  "kernelspec": {
   "display_name": "IPython (Python 2)",
   "name": "python2"
  },
  "language_info": {
   "codemirror_mode": {
    "name": "ipython",
    "version": 2
   },
   "file_extension": ".py",
   "mimetype": "text/x-python",
   "name": "python",
   "nbconvert_exporter": "python",
   "pygments_lexer": "ipython2",
   "version": "2.7.6"
  },
  "signature": "sha256:5823807ea1f5ec421e9111b2029656f3767fc33d4e85ac4916299ceab3e06c2a"
 },
 "nbformat": 4,
 "nbformat_minor": 0
}