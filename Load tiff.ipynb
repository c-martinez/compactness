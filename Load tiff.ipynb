{
 "cells": [
  {
   "cell_type": "code",
   "execution_count": 6,
   "metadata": {
    "collapsed": false
   },
   "outputs": [
    {
     "name": "stdout",
     "output_type": "stream",
     "text": [
      "Using matplotlib backend: TkAgg\n",
      "Populating the interactive namespace from numpy and matplotlib\n"
     ]
    }
   ],
   "source": [
    "%pylab"
   ]
  },
  {
   "cell_type": "code",
   "execution_count": 17,
   "metadata": {
    "collapsed": true
   },
   "outputs": [],
   "source": [
    "%load_ext autoreload\n",
    "%autoreload 2"
   ]
  },
  {
   "cell_type": "code",
   "execution_count": 62,
   "metadata": {
    "collapsed": true
   },
   "outputs": [],
   "source": [
    "from __future__ import division\n",
    "\n",
    "import glob\n",
    "import numpy as np\n",
    "from PIL import Image\n",
    "from mpl_toolkits.mplot3d import Axes3D"
   ]
  },
  {
   "cell_type": "code",
   "execution_count": 64,
   "metadata": {
    "collapsed": false
   },
   "outputs": [],
   "source": [
    "import scipy.misc\n",
    "from IPython import display"
   ]
  },
  {
   "cell_type": "code",
   "execution_count": 49,
   "metadata": {
    "collapsed": true
   },
   "outputs": [],
   "source": [
    "from compactness.helpers import getSphere\n",
    "from compactness.helpers import rotate3D\n",
    "\n",
    "from compactness.moments import immoment3D\n",
    "\n",
    "from compactness.compactness import int_max_abs"
   ]
  },
  {
   "cell_type": "code",
   "execution_count": 2,
   "metadata": {
    "collapsed": false
   },
   "outputs": [],
   "source": [
    "files = glob.glob('01_xz/*.tif')"
   ]
  },
  {
   "cell_type": "code",
   "execution_count": 3,
   "metadata": {
    "collapsed": false
   },
   "outputs": [],
   "source": [
    "volume = np.zeros((140, 140, 140))\n",
    "for i,filename in enumerate(files):\n",
    "    img = Image.open(filename)\n",
    "    # print filename\n",
    "    pixels = np.asarray(img)\n",
    "    volume[i,:,:] = pixels"
   ]
  },
  {
   "cell_type": "code",
   "execution_count": 65,
   "metadata": {
    "collapsed": false
   },
   "outputs": [],
   "source": [
    "def loadVolume(dirPath):\n",
    "    files = glob.glob(dirPath + '/*.tif')\n",
    "    volume = np.zeros((140, 140, 140))\n",
    "    for i,filename in enumerate(files):\n",
    "        img = Image.open(filename)\n",
    "        # print filename\n",
    "        pixels = np.asarray(img)\n",
    "        volume[i,:,:] = pixels\n",
    "    volume = volume > 128\n",
    "    return volume.astype(np.int)\n",
    "\n",
    "volume = loadVolume('01_xz')"
   ]
  },
  {
   "cell_type": "code",
   "execution_count": 47,
   "metadata": {
    "collapsed": false
   },
   "outputs": [
    {
     "data": {
      "text/plain": [
       "[<mpl_toolkits.mplot3d.art3d.Line3D at 0xaf73feec>]"
      ]
     },
     "execution_count": 47,
     "metadata": {},
     "output_type": "execute_result"
    }
   ],
   "source": [
    "fig = plt.figure()\n",
    "ax = fig.add_subplot(111, projection='3d')\n",
    "\n",
    "# X, Y, Z = (1-volume).nonzero()\n",
    "X, Y, Z = volume.nonzero()\n",
    "\n",
    "ax.plot(X, Y, Z, '.')"
   ]
  },
  {
   "cell_type": "code",
   "execution_count": 7,
   "metadata": {
    "collapsed": false
   },
   "outputs": [],
   "source": [
    "# Move to helpers ?\n",
    "def plotVolume(volume):\n",
    "    fig = plt.figure()\n",
    "    ax = fig.add_subplot(111, projection='3d')\n",
    "    X, Y, Z = volume.nonzero()\n",
    "    ax.plot(X, Y, Z, '.')\n",
    "plotVolume(volume)"
   ]
  },
  {
   "cell_type": "code",
   "execution_count": 48,
   "metadata": {
    "collapsed": true
   },
   "outputs": [],
   "source": [
    "plotVolume(np.ones((140,140,140)))"
   ]
  },
  {
   "cell_type": "code",
   "execution_count": 20,
   "metadata": {
    "collapsed": false
   },
   "outputs": [],
   "source": [
    "volume = getSphere(50)\n",
    "plotVolume(volume)"
   ]
  },
  {
   "cell_type": "code",
   "execution_count": 27,
   "metadata": {
    "collapsed": false
   },
   "outputs": [
    {
     "data": {
      "text/plain": [
       "5.5555555555555554"
      ]
     },
     "execution_count": 27,
     "metadata": {},
     "output_type": "execute_result"
    }
   ],
   "source": [
    "int_max_abs(X,Y,Z)"
   ]
  },
  {
   "cell_type": "code",
   "execution_count": 23,
   "metadata": {
    "collapsed": false
   },
   "outputs": [],
   "source": [
    "# Test rotate3D\n",
    "nSamples = 10\n",
    "X = np.zeros(nSamples)\n",
    "Y = np.linspace(-1,1,nSamples)\n",
    "Z = np.zeros(nSamples)\n",
    "\n",
    "fig = plt.figure()\n",
    "ax = fig.add_subplot(111, projection='3d')\n",
    "\n",
    "for rx in np.linspace(0,pi, 5):\n",
    "    for ry in np.linspace(0,pi, 5):\n",
    "        X_,Y_,Z_ = rotate3D(X,Y,Z, rx, ry)\n",
    "        ax.plot(X_, Y_, Z_,'+')\n"
   ]
  },
  {
   "cell_type": "code",
   "execution_count": 51,
   "metadata": {
    "collapsed": false
   },
   "outputs": [],
   "source": [
    "plotVolume(volume)"
   ]
  },
  {
   "cell_type": "code",
   "execution_count": 38,
   "metadata": {
    "collapsed": true
   },
   "outputs": [],
   "source": [
    "nSteps = 100\n",
    "angles = np.linspace(0,np.pi,nSteps)\n",
    "\n",
    "X, Y, Z = volume.nonzero()\n",
    "X, Y, Z = X-70,Y-70,Z-70\n",
    "\n",
    "fxy = np.zeros((nSteps,nSteps))\n",
    "for i,rx in enumerate(angles):\n",
    "    for j,ry in enumerate(angles):\n",
    "        X_,Y_,Z_ = rotate3D(X,Y,Z, rx,ry)\n",
    "        fxy[i,j] = int_max_abs(X_,Y_,Z_)\n",
    "        "
   ]
  },
  {
   "cell_type": "code",
   "execution_count": 34,
   "metadata": {
    "collapsed": false
   },
   "outputs": [
    {
     "data": {
      "text/plain": [
       "<mpl_toolkits.mplot3d.art3d.Poly3DCollection at 0xafd30cec>"
      ]
     },
     "execution_count": 34,
     "metadata": {},
     "output_type": "execute_result"
    }
   ],
   "source": [
    "fig = plt.figure()\n",
    "ax = fig.add_subplot(111, projection='3d')\n",
    "a,b = np.meshgrid(angles, angles)\n",
    "#ax.plot(a.flatten(), b.flatten(), fxy.flatten())\n",
    "ax.plot_surface(a.flatten(), b.flatten(), fxy.flatten())"
   ]
  },
  {
   "cell_type": "code",
   "execution_count": 28,
   "metadata": {
    "collapsed": false
   },
   "outputs": [
    {
     "data": {
      "text/plain": [
       "[<mpl_toolkits.mplot3d.art3d.Line3D at 0xafc6b20c>]"
      ]
     },
     "execution_count": 28,
     "metadata": {},
     "output_type": "execute_result"
    }
   ],
   "source": [
    "# X,Y,Z = volume.nonzero()\n",
    "# XYZ = np.vstack([ X-70,Y-70,Z-70 ])\n",
    "# int_max_abs(X-70,Y-70,Z-70)"
   ]
  },
  {
   "cell_type": "code",
   "execution_count": 66,
   "metadata": {
    "collapsed": false
   },
   "outputs": [
    {
     "data": {
      "image/jpeg": "[encoded data removed]",
      "text/plain": [
       "<IPython.core.display.Image object>"
      ]
     },
     "execution_count": 66,
     "metadata": {},
     "output_type": "execute_result"
    }
   ],
   "source": [
    "scipy.misc.imsave('outfile.jpg', fxy)\n",
    "display.Image(filename='outfile.jpg')"
   ]
  },
  {
   "cell_type": "code",
   "execution_count": 46,
   "metadata": {
    "collapsed": false
   },
   "outputs": [
    {
     "data": {
      "text/plain": [
       "(-45.0, -45.0, -45.0)"
      ]
     },
     "execution_count": 46,
     "metadata": {},
     "output_type": "execute_result"
    }
   ],
   "source": [
    "X.mean(),Y.mean(),Z.mean()"
   ]
  },
  {
   "cell_type": "code",
   "execution_count": 43,
   "metadata": {
    "collapsed": false
   },
   "outputs": [
    {
     "name": "stdout",
     "output_type": "stream",
     "text": [
      "0.375\n",
      "2619745.95621\n",
      "8134706\n",
      "0.120767085323\n",
      "3576516.0\n",
      "0.274682046321\n"
     ]
    }
   ],
   "source": [
    "vol = volume.sum()\n",
    "# 3/8 * vol**(4/3) / int_max_abs(X-70,Y-70,Z-70)\n",
    "print 3/8\n",
    "print vol**(4/3)\n",
    "print int_max_abs(X-70,Y-70,Z-70)\n",
    "print 3/8 * vol**(4/3) / int_max_abs(X-70,Y-70,Z-70)\n",
    "print fxy.min()\n",
    "print 3/8 * vol**(4/3) / fxy.min()\n"
   ]
  },
  {
   "cell_type": "code",
   "execution_count": null,
   "metadata": {
    "collapsed": true
   },
   "outputs": [],
   "source": []
  },
  {
   "cell_type": "code",
   "execution_count": 59,
   "metadata": {
    "collapsed": true
   },
   "outputs": [],
   "source": []
  },
  {
   "cell_type": "code",
   "execution_count": 75,
   "metadata": {
    "collapsed": false
   },
   "outputs": [
    {
     "name": "stdout",
     "output_type": "stream",
     "text": [
      "710403\n",
      "47806861\n",
      "49495500\n",
      "56286828\n",
      "67.2954097885\n",
      "69.6724253698\n",
      "79.2322498638\n",
      "==============\n",
      "710403.0\n",
      "-2.77516392089e-08\n",
      "3.87539955682e-09\n",
      "-1.4656222902e-09\n"
     ]
    }
   ],
   "source": [
    "# Test immmoments\n",
    "volume = getSphere(50)\n",
    "X,Y,Z = volume.nonzero()\n",
    "\n",
    "X,Y,Z = volume.nonzero()\n",
    "\n",
    "\n",
    "# Moment 0,0,0 is the volume of the object\n",
    "assert volume.sum()==immoment3D(X,Y,Z,0,0,0)\n",
    "assert len(X)==immoment3D(X,Y,Z,0,0,0)\n",
    "\n",
    "m000 = immoment3D(X,Y,Z,0,0,0)\n",
    "m100 = immoment3D(X,Y,Z,1,0,0)\n",
    "m010 = immoment3D(X,Y,Z,0,1,0)\n",
    "m001 = immoment3D(X,Y,Z,0,0,1)\n",
    "print m000\n",
    "print m100\n",
    "print m010\n",
    "print m001\n",
    "\n",
    "print m100 / m000\n",
    "print m010 / m000\n",
    "print m001 / m000\n",
    "\n",
    "# Centering \n",
    "X = X-(m100 / m000)\n",
    "Y = Y-(m010 / m000)\n",
    "Z = Z-(m001 / m000)\n",
    "\n",
    "m000 = immoment3D(X,Y,Z,0,0,0)\n",
    "m100 = immoment3D(X,Y,Z,1,0,0)\n",
    "m010 = immoment3D(X,Y,Z,0,1,0)\n",
    "m001 = immoment3D(X,Y,Z,0,0,1)\n",
    "print '=============='\n",
    "print m000\n",
    "print m100\n",
    "print m010\n",
    "print m001\n"
   ]
  }
 ],
 "metadata": {
  "kernelspec": {
   "display_name": "IPython (Python 2)",
   "name": "python2"
  },
  "language_info": {
   "codemirror_mode": {
    "name": "ipython",
    "version": 2
   },
   "file_extension": ".py",
   "mimetype": "text/x-python",
   "name": "python",
   "nbconvert_exporter": "python",
   "pygments_lexer": "ipython2",
   "version": "2.7.6"
  },
  "signature": "sha256:773386327a30701b8b39afe8e6c05e4327211fb4cfd2052b8da9ff7d4ac6ad5f"
 },
 "nbformat": 4,
 "nbformat_minor": 0
}