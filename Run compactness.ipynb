{
 "cells": [
  {
   "cell_type": "code",
   "execution_count": 35,
   "metadata": {
    "collapsed": true
   },
   "outputs": [],
   "source": [
    "from __future__ import division\n",
    "\n",
    "import glob\n",
    "import numpy as np\n",
    "from PIL import Image\n",
    "\n",
    "from compactness.compactness import cubeness_mz"
   ]
  },
  {
   "cell_type": "code",
   "execution_count": 36,
   "metadata": {
    "collapsed": false
   },
   "outputs": [],
   "source": [
    "def loadVolume(dirPath):\n",
    "    files = glob.glob(dirPath + '/*.tif')\n",
    "    \n",
    "    imgTmp = Image.open(files[0])\n",
    "    imgTmp = np.asarray(imgTmp)\n",
    "    volume = np.zeros((len(files), imgTmp.shape[0], imgTmp.shape[1]))\n",
    "    \n",
    "    for i,filename in enumerate(files):\n",
    "        img = Image.open(filename)\n",
    "        # print filename\n",
    "        pixels = np.asarray(img)\n",
    "        volume[i,:,:] = pixels\n",
    "    volume = volume > 128\n",
    "    return volume.astype(np.int)\n"
   ]
  },
  {
   "cell_type": "markdown",
   "metadata": {},
   "source": [
    "files/022C4_yz2/035.tif is 140x140 (but all other photos on this folder are 138x138 -- ignored whole set"
   ]
  },
  {
   "cell_type": "code",
   "execution_count": 37,
   "metadata": {
    "collapsed": false
   },
   "outputs": [
    {
     "name": "stdout",
     "output_type": "stream",
     "text": [
      "Loading  files/013C4_xy 0.584894489741\n",
      "Loading  files/01_xz 0.629101969423\n",
      "Loading  files/02_yz 0.598024401056\n",
      "Loading  files/02_yz2 0.573999005962\n",
      "Loading  files/03_xy 0.566156310398\n",
      "Loading  files/04_yz 0.625985195455\n",
      "Loading  files/07_xy 0.6442018718\n",
      "Loading  files/07_yz 0.511135021138\n",
      "Loading  files/08_yz 0.683509933843\n",
      "Loading  files/011C3_xy 0.688073723954\n",
      "Loading  files/011C3_xy2 0.711362691406\n",
      "Loading  files/024C5_yz1 0.700677313506\n",
      "Loading  files/013C6 0.598221077286\n",
      "Loading  files/015C5_xy 0.698833669426\n",
      "Loading  files/021C4_xy 0.677478052813\n",
      "Loading  files/021C4_xz 0.691620605205\n",
      "Loading  files/022C5_xy1 0.633675997721\n",
      "Loading  files/022C5_xy2 0.641549527519\n",
      "Loading  files/022C5_xy3 0.621698899407\n",
      "Loading  files/023C4_xy 0.61149338828\n",
      "Loading  files/024C5_yz 0.768870485041\n",
      "Loading  files/s02014 0.499540749088\n",
      "Loading  files/025C4_yz 0.557830876382\n",
      "Loading  files/027C4_xz 0.70013773188\n",
      "Loading  files/028C4_xy 0.524008549197\n",
      "Loading  files/028C4_xy2 0.520032391356\n",
      "Loading  files/028C4_xz 0.531481162305\n",
      "Loading  files/S0405_xy 0.696476898495\n",
      "Loading  files/S0405_yz 0.663717074804\n",
      "Loading  files/s0406_yz 0.642037405143\n",
      "Loading  files/013C4_xz_001-140 0.593726977975\n",
      "Loading  files/013C4_xz_053-193 0.59717290857\n"
     ]
    }
   ],
   "source": [
    "bufsize = 0\n",
    "with open('cubeness.txt', 'w', bufsize) as log:\n",
    "    files = glob.glob('files/*')\n",
    "    for f in files:\n",
    "        print 'Loading ',f,\n",
    "        volume = loadVolume(f)\n",
    "        X,Y,Z = volume.nonzero()\n",
    "        c,fxy = cubeness_mz(X,Y,Z)\n",
    "        print c\n",
    "        log.write(f + ',' + str(c)+'\\n')"
   ]
  }
 ],
 "metadata": {
  "kernelspec": {
   "display_name": "IPython (Python 2)",
   "name": "python2"
  },
  "language_info": {
   "codemirror_mode": {
    "name": "ipython",
    "version": 2
   },
   "file_extension": ".py",
   "mimetype": "text/x-python",
   "name": "python",
   "nbconvert_exporter": "python",
   "pygments_lexer": "ipython2",
   "version": "2.7.6"
  },
  "signature": "sha256:c9868fa2b90054e9957f5465a99163c839c23c3ea513c6039b0abd50b1c8d078"
 },
 "nbformat": 4,
 "nbformat_minor": 0
}