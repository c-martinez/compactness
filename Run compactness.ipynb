{
 "cells": [
  {
   "cell_type": "code",
   "execution_count": 35,
   "metadata": {
    "collapsed": true
   },
   "outputs": [],
   "source": [
    "from __future__ import division\n",
    "\n",
    "import glob\n",
    "import numpy as np\n",
    "from PIL import Image\n",
    "\n",
    "from compactness.compactness import cubeness_mz"
   ]
  },
  {
   "cell_type": "code",
   "execution_count": 36,
   "metadata": {
    "collapsed": false
   },
   "outputs": [],
   "source": [
    "def loadVolume(dirPath):\n",
    "    files = glob.glob(dirPath + '/*.tif')\n",
    "    \n",
    "    imgTmp = Image.open(files[0])\n",
    "    imgTmp = np.asarray(imgTmp)\n",
    "    volume = np.zeros((len(files), imgTmp.shape[0], imgTmp.shape[1]))\n",
    "    \n",
    "    for i,filename in enumerate(files):\n",
    "        img = Image.open(filename)\n",
    "        # print filename\n",
    "        pixels = np.asarray(img)\n",
    "        volume[i,:,:] = pixels\n",
    "    volume = volume > 128\n",
    "    return volume.astype(np.int)\n"
   ]
  },
  {
   "cell_type": "markdown",
   "metadata": {},
   "source": [
    "files/022C4_yz2/035.tif is 140x140 (but all other photos on this folder are 138x138 -- ignored whole set"
   ]
  },
  {
   "cell_type": "code",
   "execution_count": null,
   "metadata": {
    "collapsed": false
   },
   "outputs": [],
   "source": [
    "bufsize = 0\n",
    "with open('cubeness.txt', 'w', bufsize) as log:\n",
    "    files = glob.glob('files/*')\n",
    "    for f in files:\n",
    "        print 'Loading ',f,\n",
    "        volume = loadVolume(f)\n",
    "        X,Y,Z = volume.nonzero()\n",
    "        c,fxy = cubeness_mz(X,Y,Z)\n",
    "        print c\n",
    "        log.write(f + ',' + str(c)+'\\n')"
   ]
  }
 ],
 "metadata": {
  "kernelspec": {
   "display_name": "IPython (Python 2)",
   "name": "python2"
  },
  "language_info": {
   "codemirror_mode": {
    "name": "ipython",
    "version": 2
   },
   "file_extension": ".py",
   "mimetype": "text/x-python",
   "name": "python",
   "nbconvert_exporter": "python",
   "pygments_lexer": "ipython2",
   "version": "2.7.6"
  },
  "signature": "sha256:cf672f691aa8be99a5917df4b3210bd028d83aa19c07f94fa4303991ece3297a"
 },
 "nbformat": 4,
 "nbformat_minor": 0
}